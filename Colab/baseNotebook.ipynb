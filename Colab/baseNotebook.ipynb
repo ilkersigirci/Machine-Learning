{
  "nbformat": 4,
  "nbformat_minor": 0,
  "metadata": {
    "colab": {
      "name": "baseNotebook.ipynb",
      "version": "0.3.2",
      "provenance": [],
      "collapsed_sections": [],
      "include_colab_link": true
    },
    "kernelspec": {
      "name": "python3",
      "display_name": "Python 3"
    },
    "accelerator": "GPU"
  },
  "cells": [
    {
      "cell_type": "markdown",
      "metadata": {
        "id": "view-in-github",
        "colab_type": "text"
      },
      "source": [
        "<a href=\"https://colab.research.google.com/github/ilkersigirci/ML-with-Colab/blob/master/baseNotebook.ipynb\" target=\"_parent\"><img src=\"https://colab.research.google.com/assets/colab-badge.svg\" alt=\"Open In Colab\"/></a>"
      ]
    },
    {
      "cell_type": "code",
      "metadata": {
        "id": "JbTyzA6PgnnC",
        "colab_type": "code",
        "colab": {}
      },
      "source": [
        "import os\n",
        "import pprint\n",
        "import tensorflow as tf\n",
        "tf.reset_default_graph()\n",
        "import pandas as pd\n",
        "from google.colab import drive\n",
        "drive.mount('/content/drive/')\n",
        "#os.chdir(\"/content\")"
      ],
      "execution_count": 0,
      "outputs": []
    },
    {
      "cell_type": "code",
      "metadata": {
        "id": "bR-60uLhrFM9",
        "colab_type": "code",
        "colab": {}
      },
      "source": [
        "!pip install -U -q kaggle\n",
        "!mkdir -p ~/.kaggle"
      ],
      "execution_count": 0,
      "outputs": []
    },
    {
      "cell_type": "code",
      "metadata": {
        "id": "VPDHzfM9rU87",
        "colab_type": "code",
        "colab": {}
      },
      "source": [
        "!cp drive/My\\ Drive/Colab\\ Notebooks/kaggle.json  ~/.kaggle/"
      ],
      "execution_count": 0,
      "outputs": []
    },
    {
      "cell_type": "code",
      "metadata": {
        "id": "1KKjhMRPr-YL",
        "colab_type": "code",
        "colab": {}
      },
      "source": [
        "#!mkdir mydata\n",
        "os.chdir(\"/content/mydata\")"
      ],
      "execution_count": 0,
      "outputs": []
    },
    {
      "cell_type": "code",
      "metadata": {
        "id": "OkEf41-Yrade",
        "colab_type": "code",
        "colab": {}
      },
      "source": [
        "#!kaggle datasets list\n",
        "!kaggle ..... -p \"/content/mydata/...\""
      ],
      "execution_count": 0,
      "outputs": []
    },
    {
      "cell_type": "code",
      "metadata": {
        "id": "7qltm-jZrsGk",
        "colab_type": "code",
        "colab": {}
      },
      "source": [
        "########## ZIP #############\n",
        "#not working with zip contains more than one file\n",
        "data2 = pd.read_csv('/titanic.zip', compression='zip', header=0, sep=',', quotechar='\"')\n",
        "\n",
        "#alternative way\n",
        "from zipfile import ZipFile\n",
        "zip_file = ZipFile('titanic.zip')\n",
        "fields = ['PassengerId','Name'] \n",
        "data = pd.read_csv(zip_file.open('test.csv'), usecols=fields)\n",
        "data.head()\n",
        "\n",
        "#extracting zip files\n",
        "#!unzip -q \"Dataset/dogsCats/mytest.zip\" -d \"Dataset/dogsCats\"\n",
        "\n",
        "from zipfile import ZipFile\n",
        "zip_file = ZipFile(\"dogsCats/test1.zip\", 'r')\n",
        "zip_file.extractall(\"dogsCats/\")\n",
        "zip_file.close()\n",
        "\n",
        "zip_file = ZipFile(\"dogsCats/train.zip\", 'r')\n",
        "zip_file.extractall(\"dogsCats/\")\n",
        "zip_file.close()\n",
        "\n",
        "#!rm -rf dogsCats/test1"
      ],
      "execution_count": 0,
      "outputs": []
    },
    {
      "cell_type": "code",
      "metadata": {
        "id": "Wfj3KwTWuHhn",
        "colab_type": "code",
        "colab": {}
      },
      "source": [
        "from google.colab import files\n",
        "files.upload()\n",
        "\n",
        "#files.download('Drive/test.zip')"
      ],
      "execution_count": 0,
      "outputs": []
    },
    {
      "cell_type": "code",
      "metadata": {
        "id": "75JV0csGtRVY",
        "colab_type": "code",
        "colab": {}
      },
      "source": [
        "!git clone <GitHub repo url>"
      ],
      "execution_count": 0,
      "outputs": []
    },
    {
      "cell_type": "code",
      "metadata": {
        "id": "ihY4cs5nti8c",
        "colab_type": "code",
        "colab": {}
      },
      "source": [
        "#To download files -> !wget <link to file>"
      ],
      "execution_count": 0,
      "outputs": []
    }
  ]
}