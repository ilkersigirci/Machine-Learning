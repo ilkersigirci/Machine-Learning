{
  "nbformat": 4,
  "nbformat_minor": 0,
  "metadata": {
    "colab": {
      "name": "LDA.ipynb",
      "version": "0.3.2",
      "provenance": [],
      "collapsed_sections": [],
      "include_colab_link": true
    },
    "kernelspec": {
      "name": "python3",
      "display_name": "Python 3"
    },
    "accelerator": "GPU"
  },
  "cells": [
    {
      "cell_type": "markdown",
      "metadata": {
        "id": "view-in-github",
        "colab_type": "text"
      },
      "source": [
        "<a href=\"https://colab.research.google.com/github/ilkersigirci/ML-with-Colab/blob/master/LDA.ipynb\" target=\"_parent\"><img src=\"https://colab.research.google.com/assets/colab-badge.svg\" alt=\"Open In Colab\"/></a>"
      ]
    },
    {
      "cell_type": "code",
      "metadata": {
        "id": "JbTyzA6PgnnC",
        "colab_type": "code",
        "colab": {
          "base_uri": "https://localhost:8080/",
          "height": 54
        },
        "outputId": "3083ef5d-0efe-464b-d141-66f1a4586337"
      },
      "source": [
        "import os\n",
        "import pprint\n",
        "import tensorflow as tf\n",
        "tf.reset_default_graph()\n",
        "import pandas as pd\n",
        "from google.colab import drive\n",
        "drive.mount('/content/drive/')\n",
        "#os.chdir(\"/content\")"
      ],
      "execution_count": 1,
      "outputs": [
        {
          "output_type": "stream",
          "text": [
            "Drive already mounted at /content/drive/; to attempt to forcibly remount, call drive.mount(\"/content/drive/\", force_remount=True).\n"
          ],
          "name": "stdout"
        }
      ]
    },
    {
      "cell_type": "code",
      "metadata": {
        "id": "1KKjhMRPr-YL",
        "colab_type": "code",
        "colab": {}
      },
      "source": [
        "#!mkdir mydata\n",
        "!cp drive/My\\ Drive/Colab\\ Notebooks/Dataset/fake.csv mydata/"
      ],
      "execution_count": 0,
      "outputs": []
    },
    {
      "cell_type": "code",
      "metadata": {
        "id": "LdpnsvUqvv1W",
        "colab_type": "code",
        "colab": {}
      },
      "source": [
        "# import dependencies\n",
        "%matplotlib inline\n",
        "import pandas as pd\n",
        "import numpy as np\n",
        "import nltk\n",
        "nltk.download('stopwords')\n",
        "nltk.download('punkt')\n",
        "from nltk.corpus import stopwords\n",
        "import gensim\n",
        "from gensim.models import LdaModel\n",
        "from gensim import models, corpora, similarities\n",
        "import re\n",
        "from nltk.stem.porter import PorterStemmer\n",
        "import time\n",
        "from nltk import FreqDist\n",
        "from scipy.stats import entropy\n",
        "import matplotlib.pyplot as plt\n",
        "import seaborn as sns\n",
        "sns.set_style(\"darkgrid\")"
      ],
      "execution_count": 0,
      "outputs": []
    },
    {
      "cell_type": "code",
      "metadata": {
        "id": "R3vPBPyrvxvb",
        "colab_type": "code",
        "colab": {}
      },
      "source": [
        "df = pd.read_csv('mydata/fake.csv', usecols = ['uuid','author','title','text','language','site_url','country'])\n",
        "df = df[df.language == 'english']\n",
        "df = df[df['text'].map(type) == str]\n",
        "df['title'].fillna(value=\"\", inplace=True)\n",
        "df.dropna(axis=0, inplace=True, subset=['text'])\n",
        "# shuffle the data\n",
        "df = df.sample(frac=1.0)\n",
        "df.reset_index(drop=True,inplace=True)"
      ],
      "execution_count": 0,
      "outputs": []
    },
    {
      "cell_type": "code",
      "metadata": {
        "id": "7NLEIuzQ8MoF",
        "colab_type": "code",
        "colab": {
          "base_uri": "https://localhost:8080/",
          "height": 601
        },
        "outputId": "8b4395fc-2d4e-41c1-ea06-362ed75e33ce"
      },
      "source": [
        "df.head()"
      ],
      "execution_count": 52,
      "outputs": [
        {
          "output_type": "execute_result",
          "data": {
            "text/html": [
              "<div>\n",
              "<style scoped>\n",
              "    .dataframe tbody tr th:only-of-type {\n",
              "        vertical-align: middle;\n",
              "    }\n",
              "\n",
              "    .dataframe tbody tr th {\n",
              "        vertical-align: top;\n",
              "    }\n",
              "\n",
              "    .dataframe thead th {\n",
              "        text-align: right;\n",
              "    }\n",
              "</style>\n",
              "<table border=\"1\" class=\"dataframe\">\n",
              "  <thead>\n",
              "    <tr style=\"text-align: right;\">\n",
              "      <th></th>\n",
              "      <th>uuid</th>\n",
              "      <th>author</th>\n",
              "      <th>title</th>\n",
              "      <th>text</th>\n",
              "      <th>language</th>\n",
              "      <th>site_url</th>\n",
              "      <th>country</th>\n",
              "      <th>tokenized</th>\n",
              "    </tr>\n",
              "  </thead>\n",
              "  <tbody>\n",
              "    <tr>\n",
              "      <th>0</th>\n",
              "      <td>4117842dadca66dc30787854e964bcae4605982b</td>\n",
              "      <td>BarbaraMcK42</td>\n",
              "      <td></td>\n",
              "      <td>The article explains a lot of the background t...</td>\n",
              "      <td>english</td>\n",
              "      <td>ahtribune.com</td>\n",
              "      <td>DE</td>\n",
              "      <td>[articl, explain, lot, background, white, helm...</td>\n",
              "    </tr>\n",
              "    <tr>\n",
              "      <th>1</th>\n",
              "      <td>3ff601fe0c2543a3a23d1b5c99e45fdeee3597cd</td>\n",
              "      <td>Grant Stern</td>\n",
              "      <td>JUST IN: Republicans Sued Over Trump’s Call To...</td>\n",
              "      <td>\\nThe Democratic National Committee just hau...</td>\n",
              "      <td>english</td>\n",
              "      <td>occupydemocrats.com</td>\n",
              "      <td>US</td>\n",
              "      <td>[democrat, nation, committe, haul, donald, tru...</td>\n",
              "    </tr>\n",
              "    <tr>\n",
              "      <th>2</th>\n",
              "      <td>7a01f9d909f81c6ee077e89a1afda807bffbdc0c</td>\n",
              "      <td>Bruce A. Dixon</td>\n",
              "      <td>Malcolm X on Hillary Clinton and Donald Trump</td>\n",
              "      <td>A Black Agenda Radio Commentary by Bruce A. ...</td>\n",
              "      <td>english</td>\n",
              "      <td>blackagendareport.com</td>\n",
              "      <td>EU</td>\n",
              "      <td>[black, agenda, radio, commentari, bruce, dixo...</td>\n",
              "    </tr>\n",
              "    <tr>\n",
              "      <th>3</th>\n",
              "      <td>de1b6202e6657cc30283d631c12e9a25d9b02d1c</td>\n",
              "      <td>Pepe Escobar</td>\n",
              "      <td>Why Hillary Won't Unleash WWIII    : Information</td>\n",
              "      <td>Why Hillary Won't Unleash WWIII By Pepe Escob...</td>\n",
              "      <td>english</td>\n",
              "      <td>informationclearinghouse.info</td>\n",
              "      <td>US</td>\n",
              "      <td>[hillari, wont, unleash, wwiii, pepe, escobar,...</td>\n",
              "    </tr>\n",
              "    <tr>\n",
              "      <th>4</th>\n",
              "      <td>95cc17b10b54990fced13be769a46f8cf066aaaf</td>\n",
              "      <td>IWB</td>\n",
              "      <td>TRUMPED! LIBERAL NEWS OUTLET BLOOMBERG POLL CO...</td>\n",
              "      <td>TRUMPED! LIBERAL NEWS OUTLET BLOOMBERG POLL CO...</td>\n",
              "      <td>english</td>\n",
              "      <td>investmentwatchblog.com</td>\n",
              "      <td>US</td>\n",
              "      <td>[trump, liber, news, outlet, bloomberg, poll, ...</td>\n",
              "    </tr>\n",
              "  </tbody>\n",
              "</table>\n",
              "</div>"
            ],
            "text/plain": [
              "                                       uuid  ...                                          tokenized\n",
              "0  4117842dadca66dc30787854e964bcae4605982b  ...  [articl, explain, lot, background, white, helm...\n",
              "1  3ff601fe0c2543a3a23d1b5c99e45fdeee3597cd  ...  [democrat, nation, committe, haul, donald, tru...\n",
              "2  7a01f9d909f81c6ee077e89a1afda807bffbdc0c  ...  [black, agenda, radio, commentari, bruce, dixo...\n",
              "3  de1b6202e6657cc30283d631c12e9a25d9b02d1c  ...  [hillari, wont, unleash, wwiii, pepe, escobar,...\n",
              "4  95cc17b10b54990fced13be769a46f8cf066aaaf  ...  [trump, liber, news, outlet, bloomberg, poll, ...\n",
              "\n",
              "[5 rows x 8 columns]"
            ]
          },
          "metadata": {
            "tags": []
          },
          "execution_count": 52
        }
      ]
    },
    {
      "cell_type": "code",
      "metadata": {
        "id": "3_fQTIJMwMqc",
        "colab_type": "code",
        "colab": {}
      },
      "source": [
        "def initial_clean(text):\n",
        "    \"\"\"\n",
        "    Function to clean text of websites, email addresess and any punctuation\n",
        "    We also lower case the text\n",
        "    \"\"\"\n",
        "    text = re.sub(\"((\\S+)?(http(s)?)(\\S+))|((\\S+)?(www)(\\S+))|((\\S+)?(\\@)(\\S+)?)\", \" \", text)\n",
        "    text = re.sub(\"[^a-zA-Z ]\", \"\", text)\n",
        "    text = text.lower() # lower case the text\n",
        "    text = nltk.word_tokenize(text)\n",
        "    return text\n",
        "\n",
        "stop_words = stopwords.words('english')\n",
        "def remove_stop_words(text):\n",
        "    \"\"\"\n",
        "    Function that removes all stopwords from text\n",
        "    \"\"\"\n",
        "    return [word for word in text if word not in stop_words]\n",
        "\n",
        "stemmer = PorterStemmer()\n",
        "def stem_words(text):\n",
        "    \"\"\"\n",
        "    Function to stem words, so plural and singular are treated the same\n",
        "    \"\"\"\n",
        "    try:\n",
        "        text = [stemmer.stem(word) for word in text]\n",
        "        text = [word for word in text if len(word) > 1] # make sure we have no 1 letter words\n",
        "    except IndexError: # the word \"oed\" broke this, so needed try except\n",
        "        pass\n",
        "    return text\n",
        "\n",
        "def apply_all(text):\n",
        "    \"\"\"\n",
        "    This function applies all the functions above into one\n",
        "    \"\"\"\n",
        "    return stem_words(remove_stop_words(initial_clean(text)))"
      ],
      "execution_count": 0,
      "outputs": []
    },
    {
      "cell_type": "code",
      "metadata": {
        "id": "XP0Ceke5wYLr",
        "colab_type": "code",
        "colab": {
          "base_uri": "https://localhost:8080/",
          "height": 34
        },
        "outputId": "9a2cd915-23d6-4784-df77-6b838e91f157"
      },
      "source": [
        "# clean text and title and create new column \"tokenized\"\n",
        "t1 = time.time()\n",
        "df['tokenized'] = df['text'].apply(apply_all) + df['title'].apply(apply_all)\n",
        "t2 = time.time()\n",
        "print(\"Time to clean and tokenize\", len(df), \"articles:\", (t2-t1)/60, \"min\")"
      ],
      "execution_count": 14,
      "outputs": [
        {
          "output_type": "stream",
          "text": [
            "Time to clean and tokenize 12357 articles: 3.4305322488149006 min\n"
          ],
          "name": "stdout"
        }
      ]
    },
    {
      "cell_type": "code",
      "metadata": {
        "id": "jftniV66wbCl",
        "colab_type": "code",
        "colab": {
          "base_uri": "https://localhost:8080/",
          "height": 34
        },
        "outputId": "312449c1-d4c9-493e-d1a6-7f7f13831e69"
      },
      "source": [
        "# first get a list of all words\n",
        "all_words = [word for item in list(df['tokenized']) for word in item]\n",
        "# use nltk fdist to get a frequency distribution of all words\n",
        "fdist = FreqDist(all_words)\n",
        "len(fdist) # number of unique words"
      ],
      "execution_count": 15,
      "outputs": [
        {
          "output_type": "execute_result",
          "data": {
            "text/plain": [
              "96280"
            ]
          },
          "metadata": {
            "tags": []
          },
          "execution_count": 15
        }
      ]
    },
    {
      "cell_type": "code",
      "metadata": {
        "id": "OI5JKLNNwpp9",
        "colab_type": "code",
        "colab": {
          "base_uri": "https://localhost:8080/",
          "height": 194
        },
        "outputId": "a913f50f-fba0-4da3-b229-2339ab19e9f1"
      },
      "source": [
        "# choose k and visually inspect the bottom 10 words of the top k\n",
        "k = 20000\n",
        "top_k_words = fdist.most_common(k)\n",
        "top_k_words[-10:]\n",
        "\n",
        "# k = 50,000 is too high, as the bottom words aren't even real words and are very rarely used (once in entire corpus)\n",
        "# k = 15,000 is much more reasonable as these have been used at least 13 times in the corpus"
      ],
      "execution_count": 51,
      "outputs": [
        {
          "output_type": "execute_result",
          "data": {
            "text/plain": [
              "[('trump', 26210),\n",
              " ('us', 26109),\n",
              " ('clinton', 25625),\n",
              " ('peopl', 20779),\n",
              " ('one', 20103),\n",
              " ('state', 19739),\n",
              " ('would', 18027),\n",
              " ('hillari', 16690),\n",
              " ('like', 15759),\n",
              " ('time', 15337)]"
            ]
          },
          "metadata": {
            "tags": []
          },
          "execution_count": 51
        }
      ]
    },
    {
      "cell_type": "code",
      "metadata": {
        "id": "pLs-jlxow-hC",
        "colab_type": "code",
        "colab": {}
      },
      "source": [
        "# define a function only to keep words in the top k words\n",
        "top_k_words,_ = zip(*fdist.most_common(k))\n",
        "top_k_words = set(top_k_words)\n",
        "def keep_top_k_words(text):\n",
        "    return [word for word in text if word in top_k_words]"
      ],
      "execution_count": 0,
      "outputs": []
    },
    {
      "cell_type": "code",
      "metadata": {
        "id": "RT0p7qa9xAOf",
        "colab_type": "code",
        "colab": {}
      },
      "source": [
        "df['tokenized'] = df['tokenized'].apply(keep_top_k_words)"
      ],
      "execution_count": 0,
      "outputs": []
    },
    {
      "cell_type": "code",
      "metadata": {
        "id": "7BA9U5RVxBae",
        "colab_type": "code",
        "colab": {
          "base_uri": "https://localhost:8080/",
          "height": 87
        },
        "outputId": "f9394ac1-8c1f-4dbc-8b55-8fd79796dc0c"
      },
      "source": [
        "# document length\n",
        "df['doc_len'] = df['tokenized'].apply(lambda x: len(x))\n",
        "doc_lengths = list(df['doc_len'])\n",
        "df.drop(labels='doc_len', axis=1, inplace=True)\n",
        "\n",
        "print(\"length of list:\",len(doc_lengths),\n",
        "      \"\\naverage document length\", np.average(doc_lengths),\n",
        "      \"\\nminimum document length\", min(doc_lengths),\n",
        "      \"\\nmaximum document length\", max(doc_lengths))"
      ],
      "execution_count": 19,
      "outputs": [
        {
          "output_type": "stream",
          "text": [
            "length of list: 12357 \n",
            "average document length 356.6925629198025 \n",
            "minimum document length 0 \n",
            "maximum document length 11892\n"
          ],
          "name": "stdout"
        }
      ]
    },
    {
      "cell_type": "code",
      "metadata": {
        "id": "w4e6yhMmxDEr",
        "colab_type": "code",
        "colab": {
          "base_uri": "https://localhost:8080/",
          "height": 494
        },
        "outputId": "80fbda66-2ad6-4cd4-d206-11b126f1345a"
      },
      "source": [
        "# plot a histogram of document length\n",
        "num_bins = 1000\n",
        "fig, ax = plt.subplots(figsize=(12,6));\n",
        "# the histogram of the data\n",
        "n, bins, patches = ax.hist(doc_lengths, num_bins, normed=1)\n",
        "ax.set_xlabel('Document Length (tokens)', fontsize=15)\n",
        "ax.set_ylabel('Normed Frequency', fontsize=15)\n",
        "ax.grid()\n",
        "ax.set_xticks(np.logspace(start=np.log10(50),stop=np.log10(2000),num=8, base=10.0))\n",
        "plt.xlim(0,2000)\n",
        "ax.plot([np.average(doc_lengths) for i in np.linspace(0.0,0.0035,100)], np.linspace(0.0,0.0035,100), '-',\n",
        "        label='average doc length')\n",
        "ax.legend()\n",
        "ax.grid()\n",
        "fig.tight_layout()\n",
        "plt.show()"
      ],
      "execution_count": 20,
      "outputs": [
        {
          "output_type": "stream",
          "text": [
            "/usr/local/lib/python3.6/dist-packages/matplotlib/axes/_axes.py:6521: MatplotlibDeprecationWarning: \n",
            "The 'normed' kwarg was deprecated in Matplotlib 2.1 and will be removed in 3.1. Use 'density' instead.\n",
            "  alternative=\"'density'\", removal=\"3.1\")\n"
          ],
          "name": "stderr"
        },
        {
          "output_type": "display_data",
          "data": {
            "image/png": "[encoded data removed]",
            "text/plain": [
              "<Figure size 864x432 with 1 Axes>"
            ]
          },
          "metadata": {
            "tags": []
          }
        }
      ]
    },
    {
      "cell_type": "code",
      "metadata": {
        "id": "yBJ6wdKIxIBB",
        "colab_type": "code",
        "colab": {
          "base_uri": "https://localhost:8080/",
          "height": 34
        },
        "outputId": "e8b2559d-a501-4bf7-9b81-451fbfdb0b6d"
      },
      "source": [
        "# only keep articles with more than 30 tokens, otherwise too short\n",
        "df = df[df['tokenized'].map(len) >= 40]\n",
        "# make sure all tokenized items are lists\n",
        "df = df[df['tokenized'].map(type) == list]\n",
        "df.reset_index(drop=True,inplace=True)\n",
        "print(\"After cleaning and excluding short aticles, the dataframe now has:\", len(df), \"articles\")"
      ],
      "execution_count": 21,
      "outputs": [
        {
          "output_type": "stream",
          "text": [
            "After cleaning and excluding short aticles, the dataframe now has: 10857 articles\n"
          ],
          "name": "stdout"
        }
      ]
    },
    {
      "cell_type": "code",
      "metadata": {
        "id": "pVm97yUSxLrj",
        "colab_type": "code",
        "colab": {}
      },
      "source": [
        "# create a mask of binary values\n",
        "msk = np.random.rand(len(df)) < 0.999"
      ],
      "execution_count": 0,
      "outputs": []
    },
    {
      "cell_type": "code",
      "metadata": {
        "id": "cV_uYYyHxNR7",
        "colab_type": "code",
        "colab": {}
      },
      "source": [
        "train_df = df[msk]\n",
        "train_df.reset_index(drop=True,inplace=True)\n",
        "\n",
        "test_df = df[~msk]\n",
        "test_df.reset_index(drop=True,inplace=True)"
      ],
      "execution_count": 0,
      "outputs": []
    },
    {
      "cell_type": "code",
      "metadata": {
        "id": "gWQpZOaLxSXT",
        "colab_type": "code",
        "colab": {
          "base_uri": "https://localhost:8080/",
          "height": 34
        },
        "outputId": "401e1086-c492-4e24-a7d3-206f32eda1b1"
      },
      "source": [
        "print(len(df),len(train_df),len(test_df))"
      ],
      "execution_count": 57,
      "outputs": [
        {
          "output_type": "stream",
          "text": [
            "10857 10843 14\n"
          ],
          "name": "stdout"
        }
      ]
    },
    {
      "cell_type": "code",
      "metadata": {
        "id": "9EpMXplRxTzO",
        "colab_type": "code",
        "colab": {}
      },
      "source": [
        "################################# LDA ##########################################"
      ],
      "execution_count": 0,
      "outputs": []
    },
    {
      "cell_type": "code",
      "metadata": {
        "id": "R96Fnl_BxbgP",
        "colab_type": "code",
        "colab": {}
      },
      "source": [
        "def train_lda(data):\n",
        "    \"\"\"\n",
        "    This function trains the lda model\n",
        "    We setup parameters like number of topics, the chunksize to use in Hoffman method\n",
        "    We also do 2 passes of the data since this is a small dataset, so we want the distributions to stabilize\n",
        "    \"\"\"\n",
        "    num_topics = 100\n",
        "    chunksize = 300\n",
        "    dictionary = corpora.Dictionary(data['tokenized'])\n",
        "    corpus = [dictionary.doc2bow(doc) for doc in data['tokenized']]\n",
        "    t1 = time.time()\n",
        "    # low alpha means each document is only represented by a small number of topics, and vice versa\n",
        "    # low eta means each topic is only represented by a small number of words, and vice versa\n",
        "    lda = LdaModel(corpus=corpus, num_topics=num_topics, id2word=dictionary,\n",
        "                   alpha=1e-2, eta=0.5e-2, chunksize=chunksize, minimum_probability=0.0, passes=2)\n",
        "    t2 = time.time()\n",
        "    print(\"Time to train LDA model on \", len(df), \"articles: \", (t2-t1)/60, \"min\")\n",
        "    return dictionary,corpus,lda"
      ],
      "execution_count": 0,
      "outputs": []
    },
    {
      "cell_type": "code",
      "metadata": {
        "id": "KZMQbGPdxdNK",
        "colab_type": "code",
        "colab": {
          "base_uri": "https://localhost:8080/",
          "height": 90
        },
        "outputId": "01c1d3b3-1221-4856-f847-cca551c550ba"
      },
      "source": [
        "dictionary,corpus,lda = train_lda(train_df)"
      ],
      "execution_count": 28,
      "outputs": [
        {
          "output_type": "stream",
          "text": [
            "/usr/local/lib/python3.6/dist-packages/gensim/models/ldamodel.py:1023: RuntimeWarning: divide by zero encountered in log\n",
            "  diff = np.log(self.expElogbeta)\n"
          ],
          "name": "stderr"
        },
        {
          "output_type": "stream",
          "text": [
            "Time to train LDA model on  10857 articles:  2.505556317170461 min\n"
          ],
          "name": "stdout"
        }
      ]
    },
    {
      "cell_type": "code",
      "metadata": {
        "id": "aLfQQqyxxe54",
        "colab_type": "code",
        "colab": {
          "base_uri": "https://localhost:8080/",
          "height": 392
        },
        "outputId": "c9c0741c-dee9-47dd-ef3c-80df1979f3e4"
      },
      "source": [
        "# show_topics method shows the the top num_words contributing to num_topics number of random topics\n",
        "lda.show_topics(num_topics=10, num_words=20)"
      ],
      "execution_count": 29,
      "outputs": [
        {
          "output_type": "execute_result",
          "data": {
            "text/plain": [
              "[(25,\n",
              "  '0.082*\"student\" + 0.050*\"project\" + 0.046*\"univers\" + 0.023*\"school\" + 0.021*\"colleg\" + 0.021*\"chicago\" + 0.021*\"action\" + 0.021*\"seri\" + 0.020*\"video\" + 0.018*\"organ\" + 0.017*\"donat\" + 0.015*\"issu\" + 0.014*\"robert\" + 0.012*\"wire\" + 0.012*\"part\" + 0.012*\"group\" + 0.012*\"commun\" + 0.011*\"effort\" + 0.010*\"releas\" + 0.010*\"campu\"'),\n",
              " (64,\n",
              "  '0.230*\"rt\" + 0.120*\"jason\" + 0.069*\"insist\" + 0.057*\"unclear\" + 0.054*\"applaus\" + 0.052*\"paus\" + 0.050*\"ditz\" + 0.035*\"invas\" + 0.035*\"torch\" + 0.026*\"share\" + 0.025*\"last\" + 0.021*\"aros\" + 0.019*\"post\" + 0.017*\"mediev\" + 0.013*\"wink\" + 0.011*\"mum\" + 0.010*\"swarm\" + 0.010*\"undercut\" + 0.004*\"shore\" + 0.003*\"twoway\"'),\n",
              " (71,\n",
              "  '0.073*\"protest\" + 0.050*\"soro\" + 0.029*\"revolut\" + 0.024*\"organ\" + 0.024*\"fuck\" + 0.023*\"georg\" + 0.018*\"group\" + 0.018*\"movement\" + 0.017*\"citi\" + 0.014*\"riot\" + 0.013*\"street\" + 0.013*\"violent\" + 0.012*\"activist\" + 0.012*\"peopl\" + 0.012*\"peac\" + 0.010*\"ralli\" + 0.009*\"violenc\" + 0.008*\"radic\" + 0.007*\"flag\" + 0.007*\"fund\"'),\n",
              " (97,\n",
              "  '0.080*\"russia\" + 0.057*\"russian\" + 0.021*\"us\" + 0.020*\"ukrain\" + 0.017*\"putin\" + 0.014*\"state\" + 0.012*\"moscow\" + 0.011*\"soviet\" + 0.011*\"presid\" + 0.010*\"diplomat\" + 0.009*\"ukrainian\" + 0.009*\"western\" + 0.008*\"sanction\" + 0.008*\"relat\" + 0.008*\"countri\" + 0.008*\"secur\" + 0.007*\"washington\" + 0.007*\"foreign\" + 0.006*\"new\" + 0.006*\"intern\"'),\n",
              " (60,\n",
              "  '0.085*\"fbi\" + 0.056*\"investig\" + 0.045*\"email\" + 0.040*\"comey\" + 0.020*\"clinton\" + 0.020*\"director\" + 0.017*\"jame\" + 0.017*\"weiner\" + 0.013*\"elect\" + 0.012*\"letter\" + 0.011*\"inform\" + 0.011*\"new\" + 0.010*\"reopen\" + 0.009*\"abedin\" + 0.009*\"server\" + 0.009*\"anthoni\" + 0.009*\"hillari\" + 0.009*\"announc\" + 0.008*\"huma\" + 0.008*\"case\"'),\n",
              " (22,\n",
              "  '0.035*\"parti\" + 0.029*\"democrat\" + 0.026*\"class\" + 0.017*\"polit\" + 0.017*\"wall\" + 0.014*\"corpor\" + 0.013*\"street\" + 0.012*\"peopl\" + 0.012*\"progress\" + 0.011*\"establish\" + 0.010*\"rule\" + 0.010*\"deal\" + 0.009*\"trade\" + 0.009*\"left\" + 0.009*\"victori\" + 0.008*\"presid\" + 0.007*\"bush\" + 0.007*\"tpp\" + 0.007*\"social\" + 0.007*\"neoliber\"'),\n",
              " (61,\n",
              "  '0.151*\"trump\" + 0.037*\"donald\" + 0.015*\"elect\" + 0.014*\"support\" + 0.013*\"presid\" + 0.012*\"said\" + 0.011*\"say\" + 0.010*\"american\" + 0.010*\"america\" + 0.009*\"republican\" + 0.008*\"campaign\" + 0.008*\"peopl\" + 0.008*\"hillari\" + 0.008*\"go\" + 0.007*\"win\" + 0.007*\"like\" + 0.007*\"clinton\" + 0.007*\"would\" + 0.006*\"one\" + 0.005*\"want\"'),\n",
              " (38,\n",
              "  '0.034*\"year\" + 0.024*\"screw\" + 0.022*\"unemploy\" + 0.022*\"dear\" + 0.021*\"expir\" + 0.021*\"princ\" + 0.019*\"softwar\" + 0.019*\"recoveri\" + 0.018*\"last\" + 0.017*\"month\" + 0.015*\"avail\" + 0.014*\"reader\" + 0.013*\"websit\" + 0.012*\"mp\" + 0.012*\"endtim\" + 0.011*\"averag\" + 0.011*\"per\" + 0.011*\"stimulu\" + 0.011*\"cost\" + 0.010*\"us\"'),\n",
              " (34,\n",
              "  '0.335*\"immigr\" + 0.249*\"illeg\" + 0.048*\"deport\" + 0.042*\"countri\" + 0.040*\"cancel\" + 0.028*\"zealand\" + 0.019*\"dalla\" + 0.015*\"minnesota\" + 0.013*\"eagl\" + 0.010*\"unit\" + 0.010*\"new\" + 0.008*\"lt\" + 0.006*\"south\" + 0.006*\"honorari\" + 0.006*\"worker\" + 0.006*\"resid\" + 0.006*\"arrow\" + 0.006*\"unlaw\" + 0.006*\"nightli\" + 0.005*\"us\"'),\n",
              " (27,\n",
              "  '0.178*\"border\" + 0.102*\"nato\" + 0.043*\"troop\" + 0.030*\"deploy\" + 0.023*\"resum\" + 0.022*\"send\" + 0.022*\"baltic\" + 0.016*\"move\" + 0.015*\"buildup\" + 0.015*\"allianc\" + 0.014*\"plan\" + 0.014*\"member\" + 0.013*\"bloc\" + 0.013*\"said\" + 0.013*\"militari\" + 0.012*\"jen\" + 0.011*\"along\" + 0.011*\"battalion\" + 0.011*\"join\" + 0.011*\"alli\"')]"
            ]
          },
          "metadata": {
            "tags": []
          },
          "execution_count": 29
        }
      ]
    },
    {
      "cell_type": "code",
      "metadata": {
        "id": "03M1Ql4-xiZZ",
        "colab_type": "code",
        "colab": {
          "base_uri": "https://localhost:8080/",
          "height": 372
        },
        "outputId": "2962efb5-3ee7-460b-8f2e-5319a7cc871d"
      },
      "source": [
        "lda.show_topic(topicid=4, topn=20)"
      ],
      "execution_count": 61,
      "outputs": [
        {
          "output_type": "execute_result",
          "data": {
            "text/plain": [
              "[('women', 0.18585542),\n",
              " ('men', 0.06715366),\n",
              " ('sexual', 0.061567966),\n",
              " ('woman', 0.046971254),\n",
              " ('girl', 0.04653853),\n",
              " ('rape', 0.040240236),\n",
              " ('sex', 0.036190752),\n",
              " ('male', 0.025901271),\n",
              " ('femal', 0.022699054),\n",
              " ('mexican', 0.020551067),\n",
              " ('man', 0.020107236),\n",
              " ('gender', 0.019506983),\n",
              " ('marriag', 0.018913228),\n",
              " ('feminist', 0.018642277),\n",
              " ('young', 0.016333696),\n",
              " ('assault', 0.014170785),\n",
              " ('rapist', 0.012528375),\n",
              " ('cultur', 0.0115168905),\n",
              " ('age', 0.010939005),\n",
              " ('hispan', 0.009762906)]"
            ]
          },
          "metadata": {
            "tags": []
          },
          "execution_count": 61
        }
      ]
    },
    {
      "cell_type": "code",
      "metadata": {
        "id": "Aley70cZxnrg",
        "colab_type": "code",
        "colab": {
          "base_uri": "https://localhost:8080/",
          "height": 34
        },
        "outputId": "17db7197-5361-44d6-d5f7-e7b15b5e453d"
      },
      "source": [
        "# select and article at random from train_df\n",
        "random_article_index = np.random.randint(len(train_df))\n",
        "bow = dictionary.doc2bow(train_df.iloc[random_article_index,7])\n",
        "print(random_article_index)"
      ],
      "execution_count": 31,
      "outputs": [
        {
          "output_type": "stream",
          "text": [
            "820\n"
          ],
          "name": "stdout"
        }
      ]
    },
    {
      "cell_type": "code",
      "metadata": {
        "id": "k3xAGu-ZxpST",
        "colab_type": "code",
        "colab": {
          "base_uri": "https://localhost:8080/",
          "height": 161
        },
        "outputId": "0ef54679-7ddd-412f-9bf1-45726867c76c"
      },
      "source": [
        "print(train_df.iloc[random_article_index,3])"
      ],
      "execution_count": 32,
      "outputs": [
        {
          "output_type": "stream",
          "text": [
            "No stopping him now! Dr. Duke will be in the debate tonight at 8 Eastern Time November 1, 2016 at 10:47 pm \n",
            "No stopping him now! Dr. Duke will be in the debate tonight at 8 Eastern Time \n",
            "Dr. Duke’s epic debate will be broadcast by C-SPAN at 8PM Eastern Time. (Not C-SPAN2 or C-SPAN3, but original C-SPAN. This is the big leagues, baby!) It will also be on C-SPAN radio. \n",
            "C-SPAN’s website has live TV streaming , although you may need to sign in, so give yourselves plenty of time to figure that out. \n",
            "C-SPAN radio does not require sign in. \n",
            "Click on Image to Donate! \n",
            "And please spread this message to others.\n"
          ],
          "name": "stdout"
        }
      ]
    },
    {
      "cell_type": "code",
      "metadata": {
        "id": "zVLZif7Oxqab",
        "colab_type": "code",
        "colab": {}
      },
      "source": [
        "# get the topic contributions for the document chosen at random above\n",
        "doc_distribution = np.array([tup[1] for tup in lda.get_document_topics(bow=bow)])"
      ],
      "execution_count": 0,
      "outputs": []
    },
    {
      "cell_type": "code",
      "metadata": {
        "id": "qOBiVK8HxsGM",
        "colab_type": "code",
        "colab": {
          "base_uri": "https://localhost:8080/",
          "height": 441
        },
        "outputId": "fb7c559f-7b8d-4479-b25b-65431a239b24"
      },
      "source": [
        "# bar plot of topic distribution for this document\n",
        "fig, ax = plt.subplots(figsize=(12,6));\n",
        "# the histogram of the data\n",
        "patches = ax.bar(np.arange(len(doc_distribution)), doc_distribution)\n",
        "ax.set_xlabel('Topic ID', fontsize=15)\n",
        "ax.set_ylabel('Topic Contribution', fontsize=15)\n",
        "ax.set_title(\"Topic Distribution for Article \" + str(random_article_index), fontsize=20)\n",
        "ax.set_xticks(np.linspace(10,100,10))\n",
        "fig.tight_layout()\n",
        "plt.show()"
      ],
      "execution_count": 34,
      "outputs": [
        {
          "output_type": "display_data",
          "data": {
            "image/png": "[encoded data removed]",
            "text/plain": [
              "<Figure size 864x432 with 1 Axes>"
            ]
          },
          "metadata": {
            "tags": []
          }
        }
      ]
    },
    {
      "cell_type": "code",
      "metadata": {
        "id": "7rYs-DXxxupb",
        "colab_type": "code",
        "colab": {
          "base_uri": "https://localhost:8080/",
          "height": 214
        },
        "outputId": "731c1e83-2bf3-4099-d6f5-e0ddb053333e"
      },
      "source": [
        "# print the top 5 contributing topics and their words\n",
        "for i in doc_distribution.argsort()[-5:][::-1]:\n",
        "    print(i, lda.show_topic(topicid=i, topn=10), \"\\n\")"
      ],
      "execution_count": 35,
      "outputs": [
        {
          "output_type": "stream",
          "text": [
            "72 [('dr', 0.11095849), ('volunt', 0.056545205), ('david', 0.050703), ('duke', 0.035031367), ('show', 0.018441092), ('weekli', 0.01781056), ('margaret', 0.017133754), ('flint', 0.016683547), ('wayn', 0.016157793), ('specialist', 0.015061538)] \n",
            "\n",
            "24 [('facebook', 0.033841345), ('twitter', 0.031066045), ('media', 0.025781369), ('social', 0.023154646), ('share', 0.02257555), ('news', 0.019259244), ('post', 0.018568309), ('stori', 0.0152641265), ('googl', 0.012325687), ('like', 0.011787222)] \n",
            "\n",
            "5 [('go', 0.025943696), ('peopl', 0.02504893), ('dont', 0.019646551), ('get', 0.018800696), ('know', 0.016193187), ('us', 0.014954447), ('want', 0.014511104), ('think', 0.013373876), ('thing', 0.013153101), ('like', 0.013118249)] \n",
            "\n",
            "38 [('year', 0.03375223), ('screw', 0.024145966), ('unemploy', 0.021895656), ('dear', 0.021660518), ('expir', 0.021024054), ('princ', 0.020784201), ('softwar', 0.019410035), ('recoveri', 0.018972894), ('last', 0.017954249), ('month', 0.016662078)] \n",
            "\n",
            "49 [('post', 0.06680561), ('comment', 0.05227986), ('read', 0.03105599), ('view', 0.027688796), ('email', 0.022068864), ('author', 0.021622764), ('facebook', 0.019010076), ('subscrib', 0.014964459), ('page', 0.014777203), ('address', 0.0141041055)] \n",
            "\n"
          ],
          "name": "stdout"
        }
      ]
    },
    {
      "cell_type": "code",
      "metadata": {
        "id": "54QagXZyxxM4",
        "colab_type": "code",
        "colab": {}
      },
      "source": [
        "################################# Testing on unseen data ##########################################"
      ],
      "execution_count": 0,
      "outputs": []
    },
    {
      "cell_type": "code",
      "metadata": {
        "id": "erXkcib-x2vo",
        "colab_type": "code",
        "colab": {
          "base_uri": "https://localhost:8080/",
          "height": 34
        },
        "outputId": "d6cc4ab0-d338-4c52-89c0-dfdb26efd3b6"
      },
      "source": [
        "# select and article at random from test_df\n",
        "random_article_index = np.random.randint(len(test_df))\n",
        "print(random_article_index)"
      ],
      "execution_count": 37,
      "outputs": [
        {
          "output_type": "stream",
          "text": [
            "3\n"
          ],
          "name": "stdout"
        }
      ]
    },
    {
      "cell_type": "code",
      "metadata": {
        "id": "-oLO2pYMx5Tg",
        "colab_type": "code",
        "colab": {}
      },
      "source": [
        "new_bow = dictionary.doc2bow(test_df.iloc[random_article_index,7])"
      ],
      "execution_count": 0,
      "outputs": []
    },
    {
      "cell_type": "code",
      "metadata": {
        "id": "q00BZRyjx7a_",
        "colab_type": "code",
        "colab": {
          "base_uri": "https://localhost:8080/",
          "height": 196
        },
        "outputId": "80da4996-015e-4260-e1d2-f9cd69f02409"
      },
      "source": [
        "print(test_df.iloc[random_article_index,3])"
      ],
      "execution_count": 39,
      "outputs": [
        {
          "output_type": "stream",
          "text": [
            "Zach Cartwright | November 6, 2016 \n",
            "A prominent Native American association is making a powerful statement about offensive sports team logos using indigenous people as mascots. \n",
            "The National Congress of American Indians (NCAI), which is behind the effort to change the names and logos of the Washington Redskins football team and the Cleveland Indians baseball team, is circulating a purposefully offensive image using other ethnicities as mascots to promote dialogue about the inappropriateness of having an ethnic stereotype as the face of a team. \n",
            "In a poster made by the NCAI, several imaginary sports teams — the New York Jews, the San Francisco Chinamen, and the actual Cleveland Indians are all seen side-by-side. The “New York Jews” mascot is a hook-nosed, bespectacled grinning face, the “San Francisco Chinamen” logo is a buck-toothed Chinese stereotype in a traditional sedge hat, and the Cleveland Indians logo is depicted next to the other two offensive images. \n",
            "The evolution of offensive portrayals of Native Americans is nothing new in sports. As Indian County Today Media Network’s Vincent Schilling reported, Chief Wahoo — the mascot of the Cleveland Indians — goes back to 1928, when the team used various depictions of a Native American man in traditional headdress for its official team logo. Between 1947 and 1951, Chief Wahoo had yellow skin. After a body was added to Chief Wahoo, the mascot’s skin color was changed to a deep crimson. The Chief Wahoo known by baseball fans today has been the Cleveland Indians’ logo since 1972. \n",
            "As the NFL season continues, pressure is increasing on the Washington Redskins to change their name and mascot, after years of pressure from indigenous groups. An op-ed posted on ESPN in 2015 argued a change in the team’s name is “ inevitable ,” saying team owner Daniel Snyder is clinging to the past. Author Mike Wise cited the example of NFL referee Mike Carey, who asked the league to not assign him to Washington Redskins games for the final years of his career, saying he didn’t want to take part in disrespecting Native Americans. \n",
            "Sports fans are pushing the change the names of the teams through online petitions. A MoveOn.org petition asking the Redskins to change their name has garnered nearly 8,000 signatures as of this writing, and a Change.org petition to Cleveland Indians owner Larry Dolan asking the team to retire the Chief Wahoo logo has nearly 14,000 signatures. \n",
            "\n",
            "Zach Cartwright is an activist and author from Richmond, Virginia. He enjoys writing about politics, government, and the media. Send him an email at [email protected] \n"
          ],
          "name": "stdout"
        }
      ]
    },
    {
      "cell_type": "code",
      "metadata": {
        "id": "8cGhtbmlx9Ij",
        "colab_type": "code",
        "colab": {}
      },
      "source": [
        "new_doc_distribution = np.array([tup[1] for tup in lda.get_document_topics(bow=new_bow)])"
      ],
      "execution_count": 0,
      "outputs": []
    },
    {
      "cell_type": "code",
      "metadata": {
        "id": "AVR8Fvkwx-1r",
        "colab_type": "code",
        "colab": {
          "base_uri": "https://localhost:8080/",
          "height": 441
        },
        "outputId": "6d6fdf05-7c78-42a2-f09b-fafb733e9d6b"
      },
      "source": [
        "# bar plot of topic distribution for this document\n",
        "fig, ax = plt.subplots(figsize=(12,6));\n",
        "# the histogram of the data\n",
        "patches = ax.bar(np.arange(len(new_doc_distribution)), new_doc_distribution)\n",
        "ax.set_xlabel('Topic ID', fontsize=15)\n",
        "ax.set_ylabel('Topic Contribution', fontsize=15)\n",
        "ax.set_title(\"Topic Distribution for an Unseen Article\", fontsize=20)\n",
        "ax.set_xticks(np.linspace(10,100,10))\n",
        "fig.tight_layout()\n",
        "plt.show()"
      ],
      "execution_count": 41,
      "outputs": [
        {
          "output_type": "display_data",
          "data": {
            "image/png": "[encoded data removed]",
            "text/plain": [
              "<Figure size 864x432 with 1 Axes>"
            ]
          },
          "metadata": {
            "tags": []
          }
        }
      ]
    },
    {
      "cell_type": "code",
      "metadata": {
        "id": "60FsR72SyA47",
        "colab_type": "code",
        "colab": {
          "base_uri": "https://localhost:8080/",
          "height": 214
        },
        "outputId": "e91d64a9-5ca9-4eae-bbfe-7814c757caba"
      },
      "source": [
        "# print the top 8 contributing topics and their words\n",
        "for i in new_doc_distribution.argsort()[-5:][::-1]:\n",
        "    print(i, lda.show_topic(topicid=i, topn=10), \"\\n\")"
      ],
      "execution_count": 42,
      "outputs": [
        {
          "output_type": "stream",
          "text": [
            "61 [('trump', 0.15140675), ('donald', 0.03703002), ('elect', 0.014960019), ('support', 0.01446395), ('presid', 0.01307782), ('said', 0.011532393), ('say', 0.011082191), ('american', 0.010372412), ('america', 0.010252569), ('republican', 0.008772827)] \n",
            "\n",
            "99 [('one', 0.012151889), ('like', 0.009904013), ('time', 0.008077743), ('would', 0.0070645353), ('get', 0.006935431), ('even', 0.0068867407), ('say', 0.005841959), ('year', 0.0058280285), ('said', 0.005793238), ('peopl', 0.0057855635)] \n",
            "\n",
            "77 [('pipelin', 0.035776865), ('dakota', 0.026826683), ('protest', 0.02658307), ('stand', 0.025995709), ('water', 0.024637558), ('rock', 0.02072494), ('north', 0.015412133), ('access', 0.015362067), ('protector', 0.013927995), ('nativ', 0.013716945)] \n",
            "\n",
            "66 [('veteran', 0.027463745), ('senat', 0.026586903), ('nation', 0.017074319), ('member', 0.015211934), ('hous', 0.011668696), ('committe', 0.011553562), ('servic', 0.0106925955), ('secretari', 0.010580314), ('serv', 0.010393339), ('presid', 0.009422554)] \n",
            "\n",
            "90 [('machin', 0.059758365), ('texa', 0.047458258), ('halloween', 0.04440251), ('state', 0.030117244), ('vote', 0.024196774), ('switch', 0.023049794), ('dress', 0.021557262), ('flip', 0.020681247), ('costum', 0.019790117), ('paper', 0.019064177)] \n",
            "\n"
          ],
          "name": "stdout"
        }
      ]
    },
    {
      "cell_type": "code",
      "metadata": {
        "id": "AHAb59WFyJRf",
        "colab_type": "code",
        "colab": {}
      },
      "source": [
        "#################### Jensen-Shannon Distance ###############"
      ],
      "execution_count": 0,
      "outputs": []
    },
    {
      "cell_type": "code",
      "metadata": {
        "id": "H1KMmK5AyNsl",
        "colab_type": "code",
        "colab": {
          "base_uri": "https://localhost:8080/",
          "height": 34
        },
        "outputId": "54f1bca7-15f8-4d65-c88d-7806720e575a"
      },
      "source": [
        "# we need to use nested list comprehension here\n",
        "# this may take 1-2 minutes...\n",
        "doc_topic_dist = np.array([[tup[1] for tup in lst] for lst in lda[corpus]])\n",
        "doc_topic_dist.shape"
      ],
      "execution_count": 44,
      "outputs": [
        {
          "output_type": "execute_result",
          "data": {
            "text/plain": [
              "(10843, 100)"
            ]
          },
          "metadata": {
            "tags": []
          },
          "execution_count": 44
        }
      ]
    },
    {
      "cell_type": "code",
      "metadata": {
        "id": "CcfpwZTIyPCc",
        "colab_type": "code",
        "colab": {}
      },
      "source": [
        "def jensen_shannon(query, matrix):\n",
        "    \"\"\"\n",
        "    This function implements a Jensen-Shannon similarity\n",
        "    between the input query (an LDA topic distribution for a document)\n",
        "    and the entire corpus of topic distributions.\n",
        "    It returns an array of length M where M is the number of documents in the corpus\n",
        "    \"\"\"\n",
        "    # lets keep with the p,q notation above\n",
        "    p = query[None,:].T # take transpose\n",
        "    q = matrix.T # transpose matrix\n",
        "    m = 0.5*(p + q)\n",
        "    return np.sqrt(0.5*(entropy(p,m) + entropy(q,m)))"
      ],
      "execution_count": 0,
      "outputs": []
    },
    {
      "cell_type": "code",
      "metadata": {
        "id": "Bav9pD9LyRC1",
        "colab_type": "code",
        "colab": {}
      },
      "source": [
        "def get_most_similar_documents(query,matrix,k=10):\n",
        "    \"\"\"\n",
        "    This function implements the Jensen-Shannon distance above\n",
        "    and retruns the top k indices of the smallest jensen shannon distances\n",
        "    \"\"\"\n",
        "    sims = jensen_shannon(query,matrix) # list of jensen shannon distances\n",
        "    return sims.argsort()[:k] # the top k positional index of the smallest Jensen Shannon distances"
      ],
      "execution_count": 0,
      "outputs": []
    },
    {
      "cell_type": "code",
      "metadata": {
        "id": "7Yo6BpZAySZ_",
        "colab_type": "code",
        "colab": {}
      },
      "source": [
        "# this is surprisingly fast\n",
        "most_sim_ids = get_most_similar_documents(new_doc_distribution,doc_topic_dist)"
      ],
      "execution_count": 0,
      "outputs": []
    },
    {
      "cell_type": "code",
      "metadata": {
        "id": "mUkghxtByUFj",
        "colab_type": "code",
        "colab": {
          "base_uri": "https://localhost:8080/",
          "height": 212
        },
        "outputId": "f021bbde-3a02-417e-8550-b4cf1b3600a6"
      },
      "source": [
        "most_similar_df = train_df[train_df.index.isin(most_sim_ids)]\n",
        "most_similar_df['title']"
      ],
      "execution_count": 48,
      "outputs": [
        {
          "output_type": "execute_result",
          "data": {
            "text/plain": [
              "1332                 Ann Jones: Donald Trump's Open Carry\n",
              "1497                            Is Nic Cage hair a alien?\n",
              "1934    Standing Rock Water-Protectors Waterboarded Wh...\n",
              "4419    Don’t Root, Root, Root for the Racist, Red-Fac...\n",
              "4489            Debate over the Cleveland Indians’ Mascot\n",
              "4568    Donald Trump Accused of Failure at not being P...\n",
              "7088    Is Alex Jones Covering for Trump’s Jewish Mob ...\n",
              "8361    Comment on HALLOWEEN IN THE CASTRO RETURNS IN ...\n",
              "8675    Rachel Maddow Shines the Light on Trump’s Whit...\n",
              "9039    American Express disowns Pink Floyd singer Rog...\n",
              "Name: title, dtype: object"
            ]
          },
          "metadata": {
            "tags": []
          },
          "execution_count": 48
        }
      ]
    }
  ]
}